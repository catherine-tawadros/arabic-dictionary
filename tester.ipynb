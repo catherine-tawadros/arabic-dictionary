{
 "cells": [
  {
   "cell_type": "code",
   "execution_count": 3,
   "id": "86109332",
   "metadata": {},
   "outputs": [
    {
     "data": {
      "text/plain": [
       "'[you] live (f.)'"
      ]
     },
     "execution_count": 3,
     "metadata": {},
     "output_type": "execute_result"
    }
   ],
   "source": [
    "import pandas as pd\n",
    "arabic_dict = pd.read_csv('arabic words.csv')\n",
    "arbaic_dict = arabic_dict.fillna('')\n",
    "str(arabic_dict.iloc[6,0])"
   ]
  }
 ],
 "metadata": {
  "kernelspec": {
   "display_name": "Python 3 (ipykernel)",
   "language": "python",
   "name": "python3"
  },
  "language_info": {
   "codemirror_mode": {
    "name": "ipython",
    "version": 3
   },
   "file_extension": ".py",
   "mimetype": "text/x-python",
   "name": "python",
   "nbconvert_exporter": "python",
   "pygments_lexer": "ipython3",
   "version": "3.9.12"
  }
 },
 "nbformat": 4,
 "nbformat_minor": 5
}

{
 "cells": [
  {
   "cell_type": "code",
   "execution_count": 2,
   "id": "86109332",
   "metadata": {},
   "outputs": [
    {
     "data": {
      "text/plain": [
       "'[you] live (f.)'"
      ]
     },
     "execution_count": 2,
     "metadata": {},
     "output_type": "execute_result"
    }
   ],
   "source": [
    "import pandas as pd\n",
    "arabic_dict = pd.read_csv('arabic words.csv')\n",
    "arbaic_dict = arabic_dict.fillna('')\n",
    "str(arabic_dict.iloc[6,0])"
   ]
  },
  {
   "cell_type": "code",
   "execution_count": 10,
   "id": "29aa5888",
   "metadata": {},
   "outputs": [
    {
     "data": {
      "text/html": [
       "<div>\n",
       "<style scoped>\n",
       "    .dataframe tbody tr th:only-of-type {\n",
       "        vertical-align: middle;\n",
       "    }\n",
       "\n",
       "    .dataframe tbody tr th {\n",
       "        vertical-align: top;\n",
       "    }\n",
       "\n",
       "    .dataframe thead th {\n",
       "        text-align: right;\n",
       "    }\n",
       "</style>\n",
       "<table border=\"1\" class=\"dataframe\">\n",
       "  <thead>\n",
       "    <tr style=\"text-align: right;\">\n",
       "      <th></th>\n",
       "      <th></th>\n",
       "      <th>first person</th>\n",
       "      <th>second person</th>\n",
       "      <th>third person</th>\n",
       "    </tr>\n",
       "  </thead>\n",
       "  <tbody>\n",
       "    <tr>\n",
       "      <th rowspan=\"3\" valign=\"top\">masculine</th>\n",
       "      <th>singular</th>\n",
       "      <td>أنا</td>\n",
       "      <td>أَنْتَ</td>\n",
       "      <td>هُوَ</td>\n",
       "    </tr>\n",
       "    <tr>\n",
       "      <th>dual</th>\n",
       "      <td></td>\n",
       "      <td>أَنتُما</td>\n",
       "      <td>هُما</td>\n",
       "    </tr>\n",
       "    <tr>\n",
       "      <th>plural</th>\n",
       "      <td>نَحْنُ</td>\n",
       "      <td>أنتُم</td>\n",
       "      <td>هُم</td>\n",
       "    </tr>\n",
       "    <tr>\n",
       "      <th rowspan=\"3\" valign=\"top\">feminine</th>\n",
       "      <th>singular</th>\n",
       "      <td>أنا</td>\n",
       "      <td>أَنْتِ</td>\n",
       "      <td>هِتَ</td>\n",
       "    </tr>\n",
       "    <tr>\n",
       "      <th>dual</th>\n",
       "      <td></td>\n",
       "      <td>أَنتُما</td>\n",
       "      <td>هُما</td>\n",
       "    </tr>\n",
       "    <tr>\n",
       "      <th>plural</th>\n",
       "      <td>نَحْنُ</td>\n",
       "      <td>أَنتُنَّ</td>\n",
       "      <td>هُنَّ</td>\n",
       "    </tr>\n",
       "  </tbody>\n",
       "</table>\n",
       "</div>"
      ],
      "text/plain": [
       "                   first person second person third person\n",
       "masculine singular          أنا        أَنْتَ         هُوَ\n",
       "          dual                        أَنتُما         هُما\n",
       "          plural         نَحْنُ         أنتُم          هُم\n",
       "feminine  singular          أنا        أَنْتِ         هِتَ\n",
       "          dual                        أَنتُما         هُما\n",
       "          plural         نَحْنُ      أَنتُنَّ        هُنَّ"
      ]
     },
     "execution_count": 10,
     "metadata": {},
     "output_type": "execute_result"
    }
   ],
   "source": [
    "pronouns = pd.read_csv('arabic pronouns.csv', index_col=[0,1]).fillna('')\n",
    "pronouns"
   ]
  }
 ],
 "metadata": {
  "kernelspec": {
   "display_name": "Python 3 (ipykernel)",
   "language": "python",
   "name": "python3"
  },
  "language_info": {
   "codemirror_mode": {
    "name": "ipython",
    "version": 3
   },
   "file_extension": ".py",
   "mimetype": "text/x-python",
   "name": "python",
   "nbconvert_exporter": "python",
   "pygments_lexer": "ipython3",
   "version": "3.9.12"
  }
 },
 "nbformat": 4,
 "nbformat_minor": 5
}
